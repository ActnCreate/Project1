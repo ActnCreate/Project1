{
  "nbformat": 4,
  "nbformat_minor": 0,
  "metadata": {
    "colab": {
      "name": "Project 2. HR Analytics: Job Change of Data Scientists",
      "provenance": [],
      "collapsed_sections": [],
      "authorship_tag": "ABX9TyOdhjZkw9pI+6iY76QAeAQp",
      "include_colab_link": true
    },
    "kernelspec": {
      "name": "python3",
      "display_name": "Python 3"
    },
    "language_info": {
      "name": "python"
    }
  },
  "cells": [
    {
      "cell_type": "markdown",
      "metadata": {
        "id": "view-in-github",
        "colab_type": "text"
      },
      "source": [
        "<a href=\"https://colab.research.google.com/github/ActnCreate/Project1/blob/main/Project_2_HR_Analytics_Job_Change_of_Data_Scientists.ipynb\" target=\"_parent\"><img src=\"https://colab.research.google.com/assets/colab-badge.svg\" alt=\"Open In Colab\"/></a>"
      ]
    },
    {
      "cell_type": "markdown",
      "metadata": {
        "id": "fNHWE0Aqbprn"
      },
      "source": [
        "Source of data : \n",
        "https://www.kaggle.com/arashnic/hr-analytics-job-change-of-data-scientists"
      ]
    },
    {
      "cell_type": "markdown",
      "metadata": {
        "id": "gqXpIkDccYYn"
      },
      "source": [
        "## 1) 데이터 선정 이유 및 문제 정의\n",
        "데이터 선정 이유: \n",
        "* 현재 관심사와 관련된 데이터\n",
        "* 데이터 이해 및 접근이 쉽고 도출한 결론을 다방면에 활용 가능할 것으로 예상.   \n",
        "* 문제 접근 방식 : 분류   \n",
        "* 주어진 데이터를 바탕으로 데이터 직군으로의 실질적인 이직 의사가 있는지 여부를 예측."
      ]
    },
    {
      "cell_type": "code",
      "metadata": {
        "id": "oCmjGK2yayOB"
      },
      "source": [
        "# 데이터 불러오기 \n",
        "\n",
        "import pandas as pd\n",
        "import numpy as np\n",
        "\n",
        "train =  pd.read_csv('/content/aug_train.csv')\n",
        "X_test =  pd.read_csv('/content/aug_test.csv')\n",
        "y_test = np.load('/content/jobchange_test_target_values.npy')"
      ],
      "execution_count": 1,
      "outputs": []
    },
    {
      "cell_type": "code",
      "metadata": {
        "colab": {
          "base_uri": "https://localhost:8080/"
        },
        "id": "MTqYrWOadTVO",
        "outputId": "76d6da83-1aef-4def-cf5d-543f908c7dbb"
      },
      "source": [
        "# 데이터 훑기\n",
        "train.info()"
      ],
      "execution_count": 3,
      "outputs": [
        {
          "output_type": "stream",
          "text": [
            "<class 'pandas.core.frame.DataFrame'>\n",
            "RangeIndex: 19158 entries, 0 to 19157\n",
            "Data columns (total 14 columns):\n",
            " #   Column                  Non-Null Count  Dtype  \n",
            "---  ------                  --------------  -----  \n",
            " 0   enrollee_id             19158 non-null  int64  \n",
            " 1   city                    19158 non-null  object \n",
            " 2   city_development_index  19158 non-null  float64\n",
            " 3   gender                  14650 non-null  object \n",
            " 4   relevent_experience     19158 non-null  object \n",
            " 5   enrolled_university     18772 non-null  object \n",
            " 6   education_level         18698 non-null  object \n",
            " 7   major_discipline        16345 non-null  object \n",
            " 8   experience              19093 non-null  object \n",
            " 9   company_size            13220 non-null  object \n",
            " 10  company_type            13018 non-null  object \n",
            " 11  last_new_job            18735 non-null  object \n",
            " 12  training_hours          19158 non-null  int64  \n",
            " 13  target                  19158 non-null  float64\n",
            "dtypes: float64(2), int64(2), object(10)\n",
            "memory usage: 2.0+ MB\n"
          ],
          "name": "stdout"
        }
      ]
    },
    {
      "cell_type": "markdown",
      "metadata": {
        "id": "8mq057QLcrEI"
      },
      "source": [
        "## 2) 가설 및 평가지표, 베이스라인 선택  \n",
        "* Target : 'Target' column, 데이터 직군으로 이직 의사가 실제로 있는지 확인.       \n",
        "* 베이스라인 모델: 분류 문제이기 때문에 타깃의 최빈값을 베이스라인으로 설정.  \n",
        "* 평가지표: Imbalanced data이기 때문에 AUC score을 사용."
      ]
    },
    {
      "cell_type": "code",
      "metadata": {
        "colab": {
          "base_uri": "https://localhost:8080/",
          "height": 285
        },
        "id": "9vPNaTi6dE-A",
        "outputId": "05aa1d7d-e7ba-47ef-b3bc-ec3b3c9e8f30"
      },
      "source": [
        "# Imbalanced target data\n",
        "import matplotlib.pyplot as plt\n",
        "  \n",
        "balance = train.target.value_counts()  \n",
        "\n",
        "balance.plot.bar()\n",
        "plt.ylabel('Count')\n",
        "plt.xlabel('target')\n",
        "plt.xticks(rotation=90)\n",
        "plt.show();"
      ],
      "execution_count": 2,
      "outputs": [
        {
          "output_type": "display_data",
          "data": {
            "image/png": "[encoded data removed]",
            "text/plain": [
              "<Figure size 432x288 with 1 Axes>"
            ]
          },
          "metadata": {
            "tags": [],
            "needs_background": "light"
          }
        }
      ]
    },
    {
      "cell_type": "code",
      "metadata": {
        "colab": {
          "base_uri": "https://localhost:8080/"
        },
        "id": "5RgAhDmBdUMu",
        "outputId": "47baac7e-4a55-4692-c252-4d41ad720e12"
      },
      "source": [
        "# target 설정\n",
        "target = train.target\n",
        "\n",
        "# 베이스라인 모델\n",
        "major = target.mode()[0]\n",
        "pred = [major] * len(target)\n",
        "\n",
        "#기준모델 정확도\n",
        "from sklearn.metrics import roc_curve, roc_auc_score\n",
        "\n",
        "auc_score0 = roc_auc_score(target, pred)\n",
        "print('Baseline: ', major, '\\nBaseline AUC score: ', auc_score0)"
      ],
      "execution_count": 25,
      "outputs": [
        {
          "output_type": "stream",
          "text": [
            "Baseline:  0.0 \n",
            "Baseline AUC score:  0.5\n"
          ],
          "name": "stdout"
        }
      ]
    },
    {
      "cell_type": "markdown",
      "metadata": {
        "id": "RyoJtuyuc12x"
      },
      "source": [
        "## 3) EDA와 데이터 전처리"
      ]
    },
    {
      "cell_type": "markdown",
      "metadata": {
        "id": "UOgaMqrOcxJX"
      },
      "source": [
        "### EDA  \n"
      ]
    },
    {
      "cell_type": "code",
      "metadata": {
        "id": "r9qGZLCa1ylU"
      },
      "source": [
        "# !pip install https://github.com/pandas-profiling/pandas-profiling/archive/master.zip"
      ],
      "execution_count": null,
      "outputs": []
    },
    {
      "cell_type": "code",
      "metadata": {
        "id": "0n9zFKYqzKHu"
      },
      "source": [
        "from pandas_profiling import ProfileReport\n",
        "\n",
        "profile = ProfileReport(train, title=\"Pandas Profiling Report\")\n",
        "profile.to_file(\"your_report.html\")"
      ],
      "execution_count": null,
      "outputs": []
    },
    {
      "cell_type": "markdown",
      "metadata": {
        "id": "ECZl9Hb5dtXb"
      },
      "source": [
        "Gender"
      ]
    },
    {
      "cell_type": "code",
      "metadata": {
        "colab": {
          "base_uri": "https://localhost:8080/",
          "height": 285
        },
        "id": "eCgSVJUnkA_Z",
        "outputId": "c5bd07bf-d93e-4893-e021-f59f32496a53"
      },
      "source": [
        "gender_balance = train.gender.value_counts()  \n",
        "\n",
        "balance.plot.bar()\n",
        "plt.ylabel('Count')\n",
        "plt.xlabel('Gender')\n",
        "plt.xticks(rotation=90)\n",
        "plt.show();"
      ],
      "execution_count": 25,
      "outputs": [
        {
          "output_type": "display_data",
          "data": {
            "image/png": "[encoded data removed]",
            "text/plain": [
              "<Figure size 432x288 with 1 Axes>"
            ]
          },
          "metadata": {
            "tags": [],
            "needs_background": "light"
          }
        }
      ]
    },
    {
      "cell_type": "markdown",
      "metadata": {
        "id": "0U_65O4-0pEn"
      },
      "source": [
        "Relevent_experience"
      ]
    },
    {
      "cell_type": "code",
      "metadata": {
        "id": "sBUoRmmV0ot4"
      },
      "source": [
        "relevent_experience"
      ],
      "execution_count": null,
      "outputs": []
    },
    {
      "cell_type": "markdown",
      "metadata": {
        "id": "3fPzykNAdeWH"
      },
      "source": [
        "### 전처리\n",
        "* 'enrollee_id' 컬럼 제거 : Unique values\n",
        "* 'city' 컬럼 제거 : High Cardinality, unable to group.\n",
        "* 결측치 : 이후 Pipeline에서 Imputer로 결측치 제거."
      ]
    },
    {
      "cell_type": "code",
      "metadata": {
        "id": "RwaxHY7cVE3D"
      },
      "source": [
        "# Drop 'enrollee_id' and 'city' \n",
        "train = train.drop(['enrollee_id', 'city'], axis = 1)\n",
        "X_test = X_test.drop(['enrollee_id', 'city'], axis = 1)"
      ],
      "execution_count": 3,
      "outputs": []
    },
    {
      "cell_type": "markdown",
      "metadata": {
        "id": "xChzVgSRdken"
      },
      "source": [
        "* Data Leakage가 발생하지 않음.\n",
        "* Decision Tree 모델을 사용하면 데이터를 정규화 하지 않아도 되어서 전처리 과정이 줄어들어 유용함. 또한 결과물을 이해하기 쉬움. \n",
        "* 하지만 데이터의 작은 변동에도 모델이 크게 영향을 받을 수 있고 다른 알고리즘보다 계산 시간이 길다는 한계가 있음.\n",
        "\n"
      ]
    },
    {
      "cell_type": "code",
      "metadata": {
        "id": "_krzkzimKTsr"
      },
      "source": [
        "# 훈련 데이터를 훈련 데이터와 검증 데이터 나누기\n",
        "from sklearn.model_selection import train_test_split\n",
        "\n",
        "X_train, X_val, y_train, y_val = train_test_split(train.drop('target', axis = 1), target, stratify = target, random_state = 42)"
      ],
      "execution_count": 4,
      "outputs": []
    },
    {
      "cell_type": "markdown",
      "metadata": {
        "id": "LapH1kmpAou-"
      },
      "source": [
        "## 4) 모델링\n"
      ]
    },
    {
      "cell_type": "code",
      "metadata": {
        "id": "pdSHxapH6Fhf"
      },
      "source": [
        "# Libararies\n",
        "# !pip install category_encoders\n",
        "# !pip install fancyimpute"
      ],
      "execution_count": null,
      "outputs": []
    },
    {
      "cell_type": "code",
      "metadata": {
        "id": "tfXQOFBk6fy3"
      },
      "source": [
        "import warnings\n",
        "warnings.simplefilter(action='ignore', category=FutureWarning)"
      ],
      "execution_count": 5,
      "outputs": []
    },
    {
      "cell_type": "markdown",
      "metadata": {
        "id": "2GVnnedV8kS-"
      },
      "source": [
        "#### Model 1 : Decision Tree Classifier"
      ]
    },
    {
      "cell_type": "code",
      "metadata": {
        "colab": {
          "base_uri": "https://localhost:8080/"
        },
        "id": "lDf1upIP-8b1",
        "outputId": "876e1b67-dd1c-4c98-ea38-e7706ca1c9f3"
      },
      "source": [
        "from category_encoders import OneHotEncoder\n",
        "from sklearn.impute import SimpleImputer\n",
        "from sklearn.tree import DecisionTreeClassifier\n",
        "from sklearn.pipeline import make_pipeline\n",
        "\n",
        "pipe1 = make_pipeline(\n",
        "    OneHotEncoder(use_cat_names=True), \n",
        "    SimpleImputer(), \n",
        "    DecisionTreeClassifier(max_depth=7, random_state=2)\n",
        ")\n",
        "\n",
        "pipe1.fit(X_train, y_train)"
      ],
      "execution_count": 74,
      "outputs": [
        {
          "output_type": "execute_result",
          "data": {
            "text/plain": [
              "Pipeline(memory=None,\n",
              "         steps=[('onehotencoder',\n",
              "                 OneHotEncoder(cols=['gender', 'relevent_experience',\n",
              "                                     'enrolled_university', 'education_level',\n",
              "                                     'major_discipline', 'experience',\n",
              "                                     'company_size', 'company_type',\n",
              "                                     'last_new_job'],\n",
              "                               drop_invariant=False, handle_missing='value',\n",
              "                               handle_unknown='value', return_df=True,\n",
              "                               use_cat_names=True, verbose=0)),\n",
              "                ('simpleimputer',\n",
              "                 Simple...\n",
              "                               missing_values=nan, strategy='mean',\n",
              "                               verbose=0)),\n",
              "                ('decisiontreeclassifier',\n",
              "                 DecisionTreeClassifier(ccp_alpha=0.0, class_weight=None,\n",
              "                                        criterion='gini', max_depth=7,\n",
              "                                        max_features=None, max_leaf_nodes=None,\n",
              "                                        min_impurity_decrease=0.0,\n",
              "                                        min_impurity_split=None,\n",
              "                                        min_samples_leaf=1, min_samples_split=2,\n",
              "                                        min_weight_fraction_leaf=0.0,\n",
              "                                        presort='deprecated', random_state=2,\n",
              "                                        splitter='best'))],\n",
              "         verbose=False)"
            ]
          },
          "metadata": {
            "tags": []
          },
          "execution_count": 74
        }
      ]
    },
    {
      "cell_type": "code",
      "metadata": {
        "colab": {
          "base_uri": "https://localhost:8080/"
        },
        "id": "ouVym7TD--b6",
        "outputId": "aabf898b-ac2e-4bc3-886e-467f51671eef"
      },
      "source": [
        "from sklearn.metrics import roc_auc_score\n",
        "\n",
        "y_pred1 = pipe1.predict(X_val)\n",
        "auc_score1 = roc_auc_score(y_val, y_pred1)\n",
        "print('Baseline AUC score: ', auc_score0, '\\nModel1 AUC score: ', auc_score1)"
      ],
      "execution_count": 32,
      "outputs": [
        {
          "output_type": "stream",
          "text": [
            "Baseline AUC score:  0.5 \n",
            "Model1 AUC score:  0.7414994885439432\n"
          ],
          "name": "stdout"
        }
      ]
    },
    {
      "cell_type": "markdown",
      "metadata": {
        "id": "Z9wdTli88qfW"
      },
      "source": [
        "### Model 2 : Random Forest Classifier"
      ]
    },
    {
      "cell_type": "code",
      "metadata": {
        "id": "xI8OC3VeDfj3"
      },
      "source": [
        "from sklearn.ensemble import RandomForestClassifier\n",
        "\n",
        "pipe2 = make_pipeline(\n",
        "    OneHotEncoder(),\n",
        "    SimpleImputer(), \n",
        "    RandomForestClassifier(max_depth = 10, min_samples_leaf = 6, n_estimators=100, n_jobs=-1, random_state=10)\n",
        ")\n",
        "\n",
        "pipe2.fit(X_train, y_train);"
      ],
      "execution_count": 47,
      "outputs": []
    },
    {
      "cell_type": "code",
      "metadata": {
        "colab": {
          "base_uri": "https://localhost:8080/"
        },
        "id": "zO0lwxvLloBX",
        "outputId": "70d0e8d9-b299-44d4-bbc7-4f57ff89a339"
      },
      "source": [
        "y_pred2 = pipe2.predict(X_val)\n",
        "auc_score2 = roc_auc_score(y_val, y_pred2)\n",
        "print('Baseline AUC score: ', auc_score0, '\\nModel1 AUC score: ', auc_score1, '\\nModel2 AUC score: ', auc_score2)"
      ],
      "execution_count": 48,
      "outputs": [
        {
          "output_type": "stream",
          "text": [
            "Baseline AUC score:  0.5 \n",
            "Model1 AUC score:  0.7414994885439432 \n",
            "Model2 AUC score:  0.6044083040340746\n"
          ],
          "name": "stdout"
        }
      ]
    },
    {
      "cell_type": "markdown",
      "metadata": {
        "id": "4yjn8SeqNoGT"
      },
      "source": [
        "## 5) 교차검증 및 하이퍼파라미터 튜닝"
      ]
    },
    {
      "cell_type": "markdown",
      "metadata": {
        "id": "YsDjQfq8pi3E"
      },
      "source": [
        "Model 1: CV"
      ]
    },
    {
      "cell_type": "code",
      "metadata": {
        "colab": {
          "base_uri": "https://localhost:8080/"
        },
        "id": "XDFp-hDYpcQQ",
        "outputId": "644da287-6b71-4da1-a82f-15723e3c1b2a"
      },
      "source": [
        "from sklearn.model_selection import RandomizedSearchCV\n",
        "\n",
        "dists = {'decisiontreeclassifier__max_depth': [5, 10, 20, 30, 50, 100, None]}\n",
        "\n",
        "clf_dt = RandomizedSearchCV(\n",
        "    pipe1, \n",
        "    param_distributions=dists, \n",
        "    n_iter=30, \n",
        "    cv=5, \n",
        "    scoring='neg_mean_absolute_error',  \n",
        "    verbose=1,\n",
        "    n_jobs=-1\n",
        ")\n",
        "\n",
        "clf_dt.fit(X_train, y_train);"
      ],
      "execution_count": 57,
      "outputs": [
        {
          "output_type": "stream",
          "text": [
            "/usr/local/lib/python3.7/dist-packages/sklearn/model_selection/_search.py:281: UserWarning: The total space of parameters 7 is smaller than n_iter=30. Running 7 iterations. For exhaustive searches, use GridSearchCV.\n",
            "  % (grid_size, self.n_iter, grid_size), UserWarning)\n",
            "[Parallel(n_jobs=-1)]: Using backend LokyBackend with 2 concurrent workers.\n"
          ],
          "name": "stderr"
        },
        {
          "output_type": "stream",
          "text": [
            "Fitting 5 folds for each of 7 candidates, totalling 35 fits\n"
          ],
          "name": "stdout"
        },
        {
          "output_type": "stream",
          "text": [
            "[Parallel(n_jobs=-1)]: Done  35 out of  35 | elapsed:   11.9s finished\n"
          ],
          "name": "stderr"
        }
      ]
    },
    {
      "cell_type": "code",
      "metadata": {
        "colab": {
          "base_uri": "https://localhost:8080/"
        },
        "id": "GV6qkmiApcAz",
        "outputId": "96e23c80-9529-457c-db57-9ac4176b45d1"
      },
      "source": [
        "print('최적 하이퍼파라미터: ', clf_dt.best_params_)"
      ],
      "execution_count": 58,
      "outputs": [
        {
          "output_type": "stream",
          "text": [
            "최적 하이퍼파라미터:  {'decisiontreeclassifier__max_depth': 5}\n"
          ],
          "name": "stdout"
        }
      ]
    },
    {
      "cell_type": "markdown",
      "metadata": {
        "id": "Gbc4e6pipeI0"
      },
      "source": [
        "Model 2 : CV"
      ]
    },
    {
      "cell_type": "code",
      "metadata": {
        "colab": {
          "base_uri": "https://localhost:8080/"
        },
        "id": "G5jLaSghkqwQ",
        "outputId": "92a81284-7c50-4b1b-d6fa-633f44212b39"
      },
      "source": [
        "dists = { \n",
        "         'randomforestclassifier__max_depth': [5, 10, 15, 20, 30, None],\n",
        "         'randomforestclassifier__n_estimators' : [100, 500, 1000, 2000, None]\n",
        "         }\n",
        "clf = RandomizedSearchCV(\n",
        "    pipe2, \n",
        "    param_distributions=dists, \n",
        "    n_iter=30, \n",
        "    cv=5, \n",
        "    scoring='neg_mean_absolute_error',  \n",
        "    verbose=1,\n",
        "    n_jobs=-1\n",
        ")\n",
        "\n",
        "clf.fit(X_train, y_train);"
      ],
      "execution_count": 49,
      "outputs": [
        {
          "output_type": "stream",
          "text": [
            "Fitting 5 folds for each of 30 candidates, totalling 150 fits\n"
          ],
          "name": "stdout"
        },
        {
          "output_type": "stream",
          "text": [
            "[Parallel(n_jobs=-1)]: Using backend LokyBackend with 2 concurrent workers.\n",
            "[Parallel(n_jobs=-1)]: Done  46 tasks      | elapsed:  3.7min\n",
            "[Parallel(n_jobs=-1)]: Done 150 out of 150 | elapsed: 15.8min finished\n"
          ],
          "name": "stderr"
        }
      ]
    },
    {
      "cell_type": "code",
      "metadata": {
        "colab": {
          "base_uri": "https://localhost:8080/"
        },
        "id": "NyaWdO4ADkkK",
        "outputId": "61294206-276d-420d-a192-98a05c0e2f67"
      },
      "source": [
        "print('최적 하이퍼파라미터: ', clf.best_params_)"
      ],
      "execution_count": 50,
      "outputs": [
        {
          "output_type": "stream",
          "text": [
            "최적 하이퍼파라미터:  {'randomforestclassifier__n_estimators': 500, 'randomforestclassifier__max_depth': 30}\n"
          ],
          "name": "stdout"
        }
      ]
    },
    {
      "cell_type": "markdown",
      "metadata": {
        "id": "EsdkNr2Op2Ft"
      },
      "source": [
        "### Model 1: Hyperparameter tuning"
      ]
    },
    {
      "cell_type": "code",
      "metadata": {
        "colab": {
          "base_uri": "https://localhost:8080/"
        },
        "id": "lopqXZiZp154",
        "outputId": "d092f92b-cbc3-4670-ce76-6abc244340b1"
      },
      "source": [
        "pipe1_2 = make_pipeline(\n",
        "    OneHotEncoder(use_cat_names=True), \n",
        "    SimpleImputer(), \n",
        "    DecisionTreeClassifier(max_depth=5, random_state=2)\n",
        ")\n",
        "\n",
        "pipe1_2.fit(X_train, y_train)"
      ],
      "execution_count": 59,
      "outputs": [
        {
          "output_type": "execute_result",
          "data": {
            "text/plain": [
              "Pipeline(memory=None,\n",
              "         steps=[('onehotencoder',\n",
              "                 OneHotEncoder(cols=['gender', 'relevent_experience',\n",
              "                                     'enrolled_university', 'education_level',\n",
              "                                     'major_discipline', 'experience',\n",
              "                                     'company_size', 'company_type',\n",
              "                                     'last_new_job'],\n",
              "                               drop_invariant=False, handle_missing='value',\n",
              "                               handle_unknown='value', return_df=True,\n",
              "                               use_cat_names=True, verbose=0)),\n",
              "                ('simpleimputer',\n",
              "                 Simple...\n",
              "                               missing_values=nan, strategy='mean',\n",
              "                               verbose=0)),\n",
              "                ('decisiontreeclassifier',\n",
              "                 DecisionTreeClassifier(ccp_alpha=0.0, class_weight=None,\n",
              "                                        criterion='gini', max_depth=5,\n",
              "                                        max_features=None, max_leaf_nodes=None,\n",
              "                                        min_impurity_decrease=0.0,\n",
              "                                        min_impurity_split=None,\n",
              "                                        min_samples_leaf=1, min_samples_split=2,\n",
              "                                        min_weight_fraction_leaf=0.0,\n",
              "                                        presort='deprecated', random_state=2,\n",
              "                                        splitter='best'))],\n",
              "         verbose=False)"
            ]
          },
          "metadata": {
            "tags": []
          },
          "execution_count": 59
        }
      ]
    },
    {
      "cell_type": "code",
      "metadata": {
        "colab": {
          "base_uri": "https://localhost:8080/"
        },
        "id": "j3q-yyB-p1rr",
        "outputId": "4d171946-1cff-46cc-8d84-582f8d84ea8f"
      },
      "source": [
        "y_pred1_2 = pipe1_2.predict(X_val)\n",
        "auc_score1_2 = roc_auc_score(y_val, y_pred1_2)\n",
        "print('Baseline AUC score: ', auc_score0, '\\nModel1 AUC score: ', auc_score1, '\\nModel1_2 AUC score: ', auc_score1_2)"
      ],
      "execution_count": 62,
      "outputs": [
        {
          "output_type": "stream",
          "text": [
            "Baseline AUC score:  0.5 \n",
            "Model1 AUC score:  0.7414994885439432 \n",
            "Model1_2 AUC score:  0.7369322511705729\n"
          ],
          "name": "stdout"
        }
      ]
    },
    {
      "cell_type": "markdown",
      "metadata": {
        "id": "VpTao7QWo0hj"
      },
      "source": [
        "### Model 2 : Hyperparameter tuning"
      ]
    },
    {
      "cell_type": "code",
      "metadata": {
        "id": "c1DxCybAommQ"
      },
      "source": [
        "pipe2_2 = make_pipeline(\n",
        "    OneHotEncoder(),\n",
        "    SimpleImputer(), \n",
        "    RandomForestClassifier(max_depth = 30, min_samples_leaf = 6, n_estimators=500, n_jobs=-1, random_state=10)\n",
        ")\n",
        "\n",
        "pipe2_2.fit(X_train, y_train);"
      ],
      "execution_count": 106,
      "outputs": []
    },
    {
      "cell_type": "code",
      "metadata": {
        "colab": {
          "base_uri": "https://localhost:8080/"
        },
        "id": "0wdpJ0XMouCE",
        "outputId": "9d904394-4c78-4f9e-df17-fdcde3670661"
      },
      "source": [
        "y_pred2_2 = pipe2_2.predict(X_val)\n",
        "auc_score2_2 = roc_auc_score(y_val, y_pred2_2)\n",
        "print('Baseline AUC score: ', auc_score0, '\\nModel2 AUC score: ', auc_score2, '\\nModel2_2 AUC score: ', auc_score2_2)"
      ],
      "execution_count": 107,
      "outputs": [
        {
          "output_type": "stream",
          "text": [
            "Baseline AUC score:  0.5 \n",
            "Model2 AUC score:  0.6044083040340746 \n",
            "Model2_2 AUC score:  0.6765133602756086\n"
          ],
          "name": "stdout"
        }
      ]
    },
    {
      "cell_type": "markdown",
      "metadata": {
        "id": "t1EbVgI0N28J"
      },
      "source": [
        "## 5) 머신러닝 모델 해석"
      ]
    },
    {
      "cell_type": "code",
      "metadata": {
        "id": "P__b61Hx17aa"
      },
      "source": [
        ""
      ],
      "execution_count": null,
      "outputs": []
    }
  ]
}