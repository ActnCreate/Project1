{
  "nbformat": 4,
  "nbformat_minor": 0,
  "metadata": {
    "kernelspec": {
      "display_name": "Python 3",
      "language": "python",
      "name": "python3"
    },
    "language_info": {
      "codemirror_mode": {
        "name": "ipython",
        "version": 3
      },
      "file_extension": ".py",
      "mimetype": "text/x-python",
      "name": "python",
      "nbconvert_exporter": "python",
      "pygments_lexer": "ipython3",
      "version": "3.7.7"
    },
    "colab": {
      "name": "n221a-decision-trees.ipynb",
      "provenance": [],
      "collapsed_sections": [],
      "include_colab_link": true
    }
  },
  "cells": [
    {
      "cell_type": "markdown",
      "metadata": {
        "id": "view-in-github",
        "colab_type": "text"
      },
      "source": [
        "<a href=\"https://colab.research.google.com/github/ActnCreate/Project1/blob/main/ds-section2-sprint2/n221-decision-trees/n221a-decision-trees.ipynb\" target=\"_parent\"><img src=\"https://colab.research.google.com/assets/colab-badge.svg\" alt=\"Open In Colab\"/></a>"
      ]
    },
    {
      "cell_type": "markdown",
      "metadata": {
        "id": "9oPbCzNddwWc"
      },
      "source": [
        "<img align=\"right\" src=\"https://ds-cs-images.s3.ap-northeast-2.amazonaws.com/Codestates_Fulllogo_Color.png\" width=100>\n",
        "\n",
        "## *DATA SCIENCE / SECTION 2 / SPRINT 2 / NOTE 1*\n",
        "\n",
        "# 📝 Assignment\n",
        "---"
      ]
    },
    {
      "cell_type": "markdown",
      "metadata": {
        "id": "wzKEFjRudwWn"
      },
      "source": [
        "# Decision Trees(결정트리)"
      ]
    },
    {
      "cell_type": "markdown",
      "metadata": {
        "id": "1qDCMC5edwWo"
      },
      "source": [
        "## 캐글 인클래스(InClass) Competitions\n",
        "\n",
        "### 1) EDA를 수행합시다\n",
        "\n",
        "- [캐글 계정을 만드세요](https://www.kaggle.com/), 공유된 인클래스 대회 url을 통해 이동한 후 대회에 참여하세요.\n",
        "- H1N1 데이터를 훈련/검증/테스트 셋으로 나누어 준비하세요\n",
        "- profiling을 사용하여 데이터를 살펴보고, missing value, zeros, cardinarity 등을 확인하여 처리하세요.\n",
        "- 본인만의 특성공학을 수행하세요.\n",
        "- **(객관식) H1N1 분류기의 기준모델을 설정하세요. 기준모델의 정확도를 과제 제출폼에 제출하세요.**\n",
        "    1. 0.24\n",
        "    2. 0.50\n",
        "    3. 0.76\n",
        "    4. 1\n"
      ]
    },
    {
      "cell_type": "code",
      "metadata": {
        "id": "C_Xb90NUjHOY"
      },
      "source": [
        "# pip install https://github.com/pandas-profiling/pandas-profiling/archive/master.zip"
      ],
      "execution_count": 12,
      "outputs": []
    },
    {
      "cell_type": "code",
      "metadata": {
        "id": "Be8k4F2odwWo"
      },
      "source": [
        "# Importing data\n",
        "import pandas as pd\n",
        "from sklearn.model_selection import train_test_split\n",
        "\n",
        "target = 'vacc_h1n1_f'\n",
        "\n",
        "train = pd.merge(pd.read_csv('/content/train.csv'), pd.read_csv('/content/train_labels.csv')[target], left_index=True, right_index=True)\n",
        "test = pd.read_csv('/content/test.csv')"
      ],
      "execution_count": 13,
      "outputs": []
    },
    {
      "cell_type": "code",
      "metadata": {
        "id": "7fGmDo7piagG"
      },
      "source": [
        "# Data profiling\n",
        "# from pandas_profiling import ProfileReport\n",
        "\n",
        "# profile = ProfileReport(train)\n",
        "# profile.to_file('./pr_report.html')"
      ],
      "execution_count": 14,
      "outputs": []
    },
    {
      "cell_type": "code",
      "metadata": {
        "id": "MS04zaLGkpcI"
      },
      "source": [
        "# 레이블 \n",
        "train_target = train[target]"
      ],
      "execution_count": 15,
      "outputs": []
    },
    {
      "cell_type": "code",
      "metadata": {
        "id": "NdO-OQYY8ADK"
      },
      "source": [
        "from sklearn.model_selection import train_test_split\n",
        "\n",
        "# 훈련 데이터를 훈련 데이터와 검증 데이터 나누기\n",
        "X_train, X_val, y_train, y_val = train_test_split(train.drop(target, axis = 1), train_target, test_size = 0.2, stratify = train_target, random_state = 42)\n",
        "\n",
        "# 훈련 데이터 : X_train, y_train\n",
        "# 검증 데이터 : X_val, y_val\n",
        "# 테스트 데이터 : test"
      ],
      "execution_count": 16,
      "outputs": []
    },
    {
      "cell_type": "code",
      "metadata": {
        "colab": {
          "base_uri": "https://localhost:8080/"
        },
        "id": "5LbE8h2N1SpR",
        "outputId": "00cc117d-192f-43b2-bbb5-f3eb35b9ec98"
      },
      "source": [
        "#기준모델 \n",
        "major = y_train.mode()[0]\n",
        "y_pred = [major] * len(y_train)\n",
        "\n",
        "#기준모델 정확도\n",
        "from sklearn.metrics import accuracy_score\n",
        "\n",
        "print('기준모델: ', major, '기준모델 정확도: ', accuracy_score(y_train, y_pred))"
      ],
      "execution_count": 17,
      "outputs": [
        {
          "output_type": "stream",
          "text": [
            "기준모델:  0 기준모델 정확도:  0.7609346736648578\n"
          ],
          "name": "stdout"
        }
      ]
    },
    {
      "cell_type": "markdown",
      "metadata": {
        "id": "e00d9EWAdwWp"
      },
      "source": [
        "### 2) 모델 개발\n",
        "- 결정트리를 학습시킵니다. 하이퍼파라미터를 수정하여 성능을 높여보세요. 과적합을 주의하세요!\n",
        "- 검증세트 스코어를 확인하세요.(평가지표는 F1-score입니다, 수식은 캐글 Overview-Evaluation 페이지를 확인해 주세요. 평가지표에 대한 내용은 다음에 자세히 배우고 활용할 것입니다 지금은 스코어를 올리기 위한 노력을 전혀 기울이지 말고 결정트리의 개념과 코드이해, 사용에 집중하세요!)\n",
        "- 특성중요도를 그래프로 나타내 보세요\n",
        "- **검증세트의 F1-score를 과제 제출폼에 제출하세요. (0.5 이상 통과)**"
      ]
    },
    {
      "cell_type": "code",
      "metadata": {
        "id": "kUnZ4YSf0BLp"
      },
      "source": [
        "# !pip install category_encoders"
      ],
      "execution_count": null,
      "outputs": []
    },
    {
      "cell_type": "code",
      "metadata": {
        "id": "Z8cUTdvzXbsO",
        "colab": {
          "base_uri": "https://localhost:8080/"
        },
        "outputId": "7a1d850f-405e-490f-b245-a955a41e0a96"
      },
      "source": [
        "# 파이프라인\n",
        "\n",
        "from category_encoders import OneHotEncoder\n",
        "from sklearn.impute import SimpleImputer\n",
        "from sklearn.tree import DecisionTreeClassifier\n",
        "from sklearn.pipeline import make_pipeline\n",
        "\n",
        "\n",
        "pipe = make_pipeline(\n",
        "    OneHotEncoder(use_cat_names=True), \n",
        "    SimpleImputer(), \n",
        "    DecisionTreeClassifier(max_depth=7, random_state=2)\n",
        ")\n",
        "\n",
        "pipe.fit(X_train, y_train)"
      ],
      "execution_count": 19,
      "outputs": [
        {
          "output_type": "stream",
          "text": [
            "/usr/local/lib/python3.7/dist-packages/statsmodels/tools/_testing.py:19: FutureWarning: pandas.util.testing is deprecated. Use the functions in the public API at pandas.testing instead.\n",
            "  import pandas.util.testing as tm\n",
            "/usr/local/lib/python3.7/dist-packages/category_encoders/utils.py:21: FutureWarning: is_categorical is deprecated and will be removed in a future version.  Use is_categorical_dtype instead\n",
            "  elif pd.api.types.is_categorical(cols):\n"
          ],
          "name": "stderr"
        },
        {
          "output_type": "execute_result",
          "data": {
            "text/plain": [
              "Pipeline(memory=None,\n",
              "         steps=[('onehotencoder',\n",
              "                 OneHotEncoder(cols=['opinion_h1n1_vacc_effective',\n",
              "                                     'opinion_h1n1_risk',\n",
              "                                     'opinion_h1n1_sick_from_vacc',\n",
              "                                     'opinion_seas_vacc_effective',\n",
              "                                     'opinion_seas_risk',\n",
              "                                     'opinion_seas_sick_from_vacc', 'agegrp',\n",
              "                                     'employment_status', 'census_msa',\n",
              "                                     'employment_industry',\n",
              "                                     'employment_occupation', 'state'],\n",
              "                               drop_invariant=False, handle_...\n",
              "                               missing_values=nan, strategy='mean',\n",
              "                               verbose=0)),\n",
              "                ('decisiontreeclassifier',\n",
              "                 DecisionTreeClassifier(ccp_alpha=0.0, class_weight=None,\n",
              "                                        criterion='gini', max_depth=7,\n",
              "                                        max_features=None, max_leaf_nodes=None,\n",
              "                                        min_impurity_decrease=0.0,\n",
              "                                        min_impurity_split=None,\n",
              "                                        min_samples_leaf=1, min_samples_split=2,\n",
              "                                        min_weight_fraction_leaf=0.0,\n",
              "                                        presort='deprecated', random_state=2,\n",
              "                                        splitter='best'))],\n",
              "         verbose=False)"
            ]
          },
          "metadata": {
            "tags": []
          },
          "execution_count": 19
        }
      ]
    },
    {
      "cell_type": "code",
      "metadata": {
        "colab": {
          "base_uri": "https://localhost:8080/"
        },
        "id": "L_yurI743-32",
        "outputId": "cab52042-2658-4ad5-f92b-2b26567cd23e"
      },
      "source": [
        "print('훈련 정확도: ', pipe.score(X_train, y_train))\n",
        "print('검증 정확도: ', pipe.score(X_val, y_val))"
      ],
      "execution_count": 20,
      "outputs": [
        {
          "output_type": "stream",
          "text": [
            "훈련 정확도:  0.8353349346143581\n",
            "검증 정확도:  0.8236270904993477\n"
          ],
          "name": "stdout"
        }
      ]
    },
    {
      "cell_type": "code",
      "metadata": {
        "colab": {
          "base_uri": "https://localhost:8080/"
        },
        "id": "Dr0Kw50M4OMD",
        "outputId": "7445dfe9-5986-494e-cfd5-ee6ac13beea5"
      },
      "source": [
        "from sklearn.metrics import f1_score\n",
        "y_val_pred = pipe.predict(X_val)\n",
        "print('검정 세트의 f1 score: ', f1_score(y_val, y_val_pred))"
      ],
      "execution_count": 21,
      "outputs": [
        {
          "output_type": "stream",
          "text": [
            "검정 세트의 f1 score:  0.546231309124199\n"
          ],
          "name": "stdout"
        }
      ]
    },
    {
      "cell_type": "markdown",
      "metadata": {
        "id": "5VKI9XFkdwWp"
      },
      "source": [
        "### 3) 캐글 대회 참여\n",
        "\n",
        "- 테스트셋에 대한 예측 결과를 캐글에 제출 하세요.(스코어가 많이 낮게 나와도 결정트리를 잘 이해하고 결과를 내었다면 충분합니다!)\n",
        "- **캐글 Leaderboard의 본인 Score를 과제 제출폼에 제출하세요.**\n",
        " "
      ]
    },
    {
      "cell_type": "code",
      "metadata": {
        "id": "oOOv-Ocx6zpA"
      },
      "source": [
        "test_pred = pipe.predict(test)"
      ],
      "execution_count": 22,
      "outputs": []
    },
    {
      "cell_type": "code",
      "metadata": {
        "id": "7j6l2nxS6AGC"
      },
      "source": [
        "submission = pd.DataFrame(test_pred, columns = ['vacc_h1n1_f'])\n",
        "submission.index.name = 'Id'\n",
        "\n",
        "submission.to_csv('submission.csv')"
      ],
      "execution_count": 23,
      "outputs": []
    },
    {
      "cell_type": "markdown",
      "metadata": {
        "id": "Jx487WGOdwWp"
      },
      "source": [
        "## 🔥 도전과제"
      ]
    },
    {
      "cell_type": "markdown",
      "metadata": {
        "id": "o_KDxtrHdwWp"
      },
      "source": [
        "### 4) 다른 종류의 imputer를 사용하고 특성-타겟 관계 그래프를 나타내 보세요.\n",
        "- 다른 종류의 imputer를 사용해 보세요([scikit-learn imputers](https://scikit-learn.org/stable/modules/impute.html))\n",
        "- seaborn plots 사용하여 관심있는 특성들과 target간의 관계를 그래프로 나타내 보세요.\n",
        "- [Seaborn \"Categorical estimate\" plots](https://seaborn.pydata.org/tutorial/categorical.html)\n",
        "- [Seaborn linear model plots](https://seaborn.pydata.org/tutorial/regression.html)"
      ]
    },
    {
      "cell_type": "code",
      "metadata": {
        "id": "afyP2a8b_gap"
      },
      "source": [
        "# Using IterativeImputer\n",
        "\n",
        "from sklearn.experimental import enable_iterative_imputer  \n",
        "from sklearn.impute import IterativeImputer"
      ],
      "execution_count": 24,
      "outputs": []
    },
    {
      "cell_type": "code",
      "metadata": {
        "id": "KxMfZUGb-71R"
      },
      "source": [
        "from category_encoders import OneHotEncoder\n",
        "from sklearn.impute import IterativeImputer\n",
        "from sklearn.tree import DecisionTreeClassifier\n",
        "from sklearn.pipeline import make_pipeline"
      ],
      "execution_count": 25,
      "outputs": []
    },
    {
      "cell_type": "code",
      "metadata": {
        "colab": {
          "base_uri": "https://localhost:8080/"
        },
        "id": "ut4jT9vICN-l",
        "outputId": "6c942573-6a38-4e49-916a-d40cf7045240"
      },
      "source": [
        "pipe2 = make_pipeline(\n",
        "    OneHotEncoder(use_cat_names=True), \n",
        "    IterativeImputer(), \n",
        "    DecisionTreeClassifier(max_depth=7,random_state=2)\n",
        ")\n",
        "\n",
        "pipe2.fit(X_train, y_train)"
      ],
      "execution_count": 26,
      "outputs": [
        {
          "output_type": "stream",
          "text": [
            "/usr/local/lib/python3.7/dist-packages/category_encoders/utils.py:21: FutureWarning: is_categorical is deprecated and will be removed in a future version.  Use is_categorical_dtype instead\n",
            "  elif pd.api.types.is_categorical(cols):\n"
          ],
          "name": "stderr"
        },
        {
          "output_type": "execute_result",
          "data": {
            "text/plain": [
              "Pipeline(memory=None,\n",
              "         steps=[('onehotencoder',\n",
              "                 OneHotEncoder(cols=['opinion_h1n1_vacc_effective',\n",
              "                                     'opinion_h1n1_risk',\n",
              "                                     'opinion_h1n1_sick_from_vacc',\n",
              "                                     'opinion_seas_vacc_effective',\n",
              "                                     'opinion_seas_risk',\n",
              "                                     'opinion_seas_sick_from_vacc', 'agegrp',\n",
              "                                     'employment_status', 'census_msa',\n",
              "                                     'employment_industry',\n",
              "                                     'employment_occupation', 'state'],\n",
              "                               drop_invariant=False, handle_...\n",
              "                                  skip_complete=False, tol=0.001, verbose=0)),\n",
              "                ('decisiontreeclassifier',\n",
              "                 DecisionTreeClassifier(ccp_alpha=0.0, class_weight=None,\n",
              "                                        criterion='gini', max_depth=7,\n",
              "                                        max_features=None, max_leaf_nodes=None,\n",
              "                                        min_impurity_decrease=0.0,\n",
              "                                        min_impurity_split=None,\n",
              "                                        min_samples_leaf=1, min_samples_split=2,\n",
              "                                        min_weight_fraction_leaf=0.0,\n",
              "                                        presort='deprecated', random_state=2,\n",
              "                                        splitter='best'))],\n",
              "         verbose=False)"
            ]
          },
          "metadata": {
            "tags": []
          },
          "execution_count": 26
        }
      ]
    },
    {
      "cell_type": "code",
      "metadata": {
        "colab": {
          "base_uri": "https://localhost:8080/"
        },
        "id": "r8ipRQmNO_Sj",
        "outputId": "5a181dfa-6f22-47fe-f61f-2fcb8277152e"
      },
      "source": [
        "print('훈련 정확도: ', pipe2.score(X_train, y_train))\n",
        "print('검증 정확도: ', pipe2.score(X_val, y_val))"
      ],
      "execution_count": 27,
      "outputs": [
        {
          "output_type": "stream",
          "text": [
            "훈련 정확도:  0.833466773418735\n",
            "검증 정확도:  0.8193571343850077\n"
          ],
          "name": "stdout"
        }
      ]
    },
    {
      "cell_type": "code",
      "metadata": {
        "colab": {
          "base_uri": "https://localhost:8080/"
        },
        "id": "lDq9E7CxPewP",
        "outputId": "4ba7b368-1421-42a8-855f-81095d5e608f"
      },
      "source": [
        "y_val_pred2 = pipe2.predict(X_val)\n",
        "print('검정 세트의 f1 score: ', f1_score(y_val, y_val_pred2))"
      ],
      "execution_count": 28,
      "outputs": [
        {
          "output_type": "stream",
          "text": [
            "검정 세트의 f1 score:  0.5555879778231689\n"
          ],
          "name": "stdout"
        }
      ]
    },
    {
      "cell_type": "code",
      "metadata": {
        "id": "mySD_y3aPKEo"
      },
      "source": [
        "test_pred2 = pipe2.predict(test)"
      ],
      "execution_count": 29,
      "outputs": []
    },
    {
      "cell_type": "code",
      "metadata": {
        "id": "FSJ1CR5UYv3m"
      },
      "source": [
        "submission2 = pd.DataFrame(test_pred2, columns = ['vacc_h1n1_f'])\n",
        "submission2.index.name = 'Id'\n",
        "\n",
        "submission2.to_csv('submission2.csv')"
      ],
      "execution_count": 30,
      "outputs": []
    },
    {
      "cell_type": "code",
      "metadata": {
        "colab": {
          "base_uri": "https://localhost:8080/"
        },
        "id": "xusjG3Il2X8x",
        "outputId": "b4544d71-9f6d-476c-eb77-f71f4d557ea4"
      },
      "source": [
        "pipe2.named_steps"
      ],
      "execution_count": 36,
      "outputs": [
        {
          "output_type": "execute_result",
          "data": {
            "text/plain": [
              "{'decisiontreeclassifier': DecisionTreeClassifier(ccp_alpha=0.0, class_weight=None, criterion='gini',\n",
              "                        max_depth=7, max_features=None, max_leaf_nodes=None,\n",
              "                        min_impurity_decrease=0.0, min_impurity_split=None,\n",
              "                        min_samples_leaf=1, min_samples_split=2,\n",
              "                        min_weight_fraction_leaf=0.0, presort='deprecated',\n",
              "                        random_state=2, splitter='best'),\n",
              " 'iterativeimputer': IterativeImputer(add_indicator=False, estimator=None,\n",
              "                  imputation_order='ascending', initial_strategy='mean',\n",
              "                  max_iter=10, max_value=None, min_value=None,\n",
              "                  missing_values=nan, n_nearest_features=None, random_state=None,\n",
              "                  sample_posterior=False, skip_complete=False, tol=0.001,\n",
              "                  verbose=0),\n",
              " 'onehotencoder': OneHotEncoder(cols=['opinion_h1n1_vacc_effective', 'opinion_h1n1_risk',\n",
              "                     'opinion_h1n1_sick_from_vacc',\n",
              "                     'opinion_seas_vacc_effective', 'opinion_seas_risk',\n",
              "                     'opinion_seas_sick_from_vacc', 'agegrp',\n",
              "                     'employment_status', 'census_msa', 'employment_industry',\n",
              "                     'employment_occupation', 'state'],\n",
              "               drop_invariant=False, handle_missing='value',\n",
              "               handle_unknown='value', return_df=True, use_cat_names=True,\n",
              "               verbose=0)}"
            ]
          },
          "metadata": {
            "tags": []
          },
          "execution_count": 36
        }
      ]
    },
    {
      "cell_type": "code",
      "metadata": {
        "id": "TWlENhveySpN"
      },
      "source": [
        "# Image too large to load\n",
        "import matplotlib.pyplot as plt\n",
        "\n",
        "model_dt = pipe2.named_steps['decisiontreeclassifier']\n",
        "encoded_columns = enc.transform(X_val).columns\n",
        "importances = pd.Series(model_dt.feature_importances_, encoded_columns)\n",
        "# plt.figure(figsize=(?,?))\n",
        "importances.sort_values().plot.barh();"
      ],
      "execution_count": null,
      "outputs": []
    },
    {
      "cell_type": "code",
      "metadata": {
        "id": "o7OOMip_39Na"
      },
      "source": [
        "encoded_columns"
      ],
      "execution_count": null,
      "outputs": []
    },
    {
      "cell_type": "code",
      "metadata": {
        "id": "VoWPnunw3uDW"
      },
      "source": [
        "fi_result = pd.DataFrame(model_dt.feature_importances_)\n",
        "fi_result"
      ],
      "execution_count": null,
      "outputs": []
    },
    {
      "cell_type": "code",
      "metadata": {
        "id": "xxw9nycG45M0"
      },
      "source": [
        "import numpy as np\n",
        "\n",
        "fi_data = pd.DataFrame(np.column_stack((encoded_columns, fi_result)), columns = ['Feature', 'Importance'])"
      ],
      "execution_count": 70,
      "outputs": []
    },
    {
      "cell_type": "code",
      "metadata": {
        "colab": {
          "base_uri": "https://localhost:8080/",
          "height": 1000
        },
        "id": "THADpOJS5bdA",
        "outputId": "70a2eac4-1492-430b-f9bc-44c629ba3b31"
      },
      "source": [
        "fi_data_n0 = fi_data[fi_data.Importance != 0]\n",
        "fi_data_n0.sort_values('Importance', ascending = False)"
      ],
      "execution_count": 86,
      "outputs": [
        {
          "output_type": "execute_result",
          "data": {
            "text/html": [
              "<div>\n",
              "<style scoped>\n",
              "    .dataframe tbody tr th:only-of-type {\n",
              "        vertical-align: middle;\n",
              "    }\n",
              "\n",
              "    .dataframe tbody tr th {\n",
              "        vertical-align: top;\n",
              "    }\n",
              "\n",
              "    .dataframe thead th {\n",
              "        text-align: right;\n",
              "    }\n",
              "</style>\n",
              "<table border=\"1\" class=\"dataframe\">\n",
              "  <thead>\n",
              "    <tr style=\"text-align: right;\">\n",
              "      <th></th>\n",
              "      <th>Feature</th>\n",
              "      <th>Importance</th>\n",
              "    </tr>\n",
              "  </thead>\n",
              "  <tbody>\n",
              "    <tr>\n",
              "      <th>9</th>\n",
              "      <td>doctor_recc_h1n1</td>\n",
              "      <td>0.508012</td>\n",
              "    </tr>\n",
              "    <tr>\n",
              "      <th>13</th>\n",
              "      <td>health_insurance</td>\n",
              "      <td>0.151051</td>\n",
              "    </tr>\n",
              "    <tr>\n",
              "      <th>19</th>\n",
              "      <td>opinion_h1n1_vacc_effective_Very Effective</td>\n",
              "      <td>0.0852707</td>\n",
              "    </tr>\n",
              "    <tr>\n",
              "      <th>14</th>\n",
              "      <td>health_worker</td>\n",
              "      <td>0.0604952</td>\n",
              "    </tr>\n",
              "    <tr>\n",
              "      <th>23</th>\n",
              "      <td>opinion_h1n1_risk_Very Low</td>\n",
              "      <td>0.0427165</td>\n",
              "    </tr>\n",
              "    <tr>\n",
              "      <th>24</th>\n",
              "      <td>opinion_h1n1_risk_Somewhat High</td>\n",
              "      <td>0.0356041</td>\n",
              "    </tr>\n",
              "    <tr>\n",
              "      <th>26</th>\n",
              "      <td>opinion_h1n1_risk_Somewhat Low</td>\n",
              "      <td>0.0222518</td>\n",
              "    </tr>\n",
              "    <tr>\n",
              "      <th>25</th>\n",
              "      <td>opinion_h1n1_risk_Very High</td>\n",
              "      <td>0.0188958</td>\n",
              "    </tr>\n",
              "    <tr>\n",
              "      <th>10</th>\n",
              "      <td>doctor_recc_seasonal</td>\n",
              "      <td>0.0069395</td>\n",
              "    </tr>\n",
              "    <tr>\n",
              "      <th>92</th>\n",
              "      <td>employment_industry_Armed Forces</td>\n",
              "      <td>0.00518515</td>\n",
              "    </tr>\n",
              "    <tr>\n",
              "      <th>1</th>\n",
              "      <td>h1n1_knowledge</td>\n",
              "      <td>0.00476178</td>\n",
              "    </tr>\n",
              "    <tr>\n",
              "      <th>65</th>\n",
              "      <td>raceeth4_i</td>\n",
              "      <td>0.00413497</td>\n",
              "    </tr>\n",
              "    <tr>\n",
              "      <th>58</th>\n",
              "      <td>agegrp_65+ Years</td>\n",
              "      <td>0.00370154</td>\n",
              "    </tr>\n",
              "    <tr>\n",
              "      <th>47</th>\n",
              "      <td>opinion_seas_risk_Very Low</td>\n",
              "      <td>0.00365986</td>\n",
              "    </tr>\n",
              "    <tr>\n",
              "      <th>3</th>\n",
              "      <td>behavioral_avoidance</td>\n",
              "      <td>0.00346861</td>\n",
              "    </tr>\n",
              "    <tr>\n",
              "      <th>134</th>\n",
              "      <td>state_RHODE ISLAND</td>\n",
              "      <td>0.00302029</td>\n",
              "    </tr>\n",
              "    <tr>\n",
              "      <th>53</th>\n",
              "      <td>opinion_seas_sick_from_vacc_Not At All Worried</td>\n",
              "      <td>0.00284291</td>\n",
              "    </tr>\n",
              "    <tr>\n",
              "      <th>131</th>\n",
              "      <td>hhs_region</td>\n",
              "      <td>0.00253087</td>\n",
              "    </tr>\n",
              "    <tr>\n",
              "      <th>4</th>\n",
              "      <td>behavioral_face_mask</td>\n",
              "      <td>0.00189489</td>\n",
              "    </tr>\n",
              "    <tr>\n",
              "      <th>146</th>\n",
              "      <td>state_ARKANSAS</td>\n",
              "      <td>0.00187333</td>\n",
              "    </tr>\n",
              "    <tr>\n",
              "      <th>74</th>\n",
              "      <td>census_region</td>\n",
              "      <td>0.00186303</td>\n",
              "    </tr>\n",
              "    <tr>\n",
              "      <th>123</th>\n",
              "      <td>employment_occupation_Healthcare Practitioners...</td>\n",
              "      <td>0.00177718</td>\n",
              "    </tr>\n",
              "    <tr>\n",
              "      <th>78</th>\n",
              "      <td>n_adult_r</td>\n",
              "      <td>0.00174844</td>\n",
              "    </tr>\n",
              "    <tr>\n",
              "      <th>38</th>\n",
              "      <td>opinion_seas_vacc_effective_Very Effective</td>\n",
              "      <td>0.00170585</td>\n",
              "    </tr>\n",
              "    <tr>\n",
              "      <th>61</th>\n",
              "      <td>agegrp_55 - 64 Years</td>\n",
              "      <td>0.0014863</td>\n",
              "    </tr>\n",
              "    <tr>\n",
              "      <th>89</th>\n",
              "      <td>employment_industry_Health Care and Social Ass...</td>\n",
              "      <td>0.00143347</td>\n",
              "    </tr>\n",
              "    <tr>\n",
              "      <th>80</th>\n",
              "      <td>n_people_r</td>\n",
              "      <td>0.00129827</td>\n",
              "    </tr>\n",
              "    <tr>\n",
              "      <th>64</th>\n",
              "      <td>education_comp</td>\n",
              "      <td>0.00120549</td>\n",
              "    </tr>\n",
              "    <tr>\n",
              "      <th>33</th>\n",
              "      <td>opinion_h1n1_sick_from_vacc_Somewhat Worried</td>\n",
              "      <td>0.00110413</td>\n",
              "    </tr>\n",
              "    <tr>\n",
              "      <th>182</th>\n",
              "      <td>state_NEW HAMPSHIRE</td>\n",
              "      <td>0.00103073</td>\n",
              "    </tr>\n",
              "    <tr>\n",
              "      <th>7</th>\n",
              "      <td>behavioral_outside_home</td>\n",
              "      <td>0.00100294</td>\n",
              "    </tr>\n",
              "    <tr>\n",
              "      <th>158</th>\n",
              "      <td>state_SOUTH DAKOTA</td>\n",
              "      <td>0.000927906</td>\n",
              "    </tr>\n",
              "    <tr>\n",
              "      <th>76</th>\n",
              "      <td>census_msa_MSA, Not Principle City</td>\n",
              "      <td>0.000886948</td>\n",
              "    </tr>\n",
              "    <tr>\n",
              "      <th>69</th>\n",
              "      <td>rent_own_r</td>\n",
              "      <td>0.000885843</td>\n",
              "    </tr>\n",
              "    <tr>\n",
              "      <th>59</th>\n",
              "      <td>agegrp_45 - 54 Years</td>\n",
              "      <td>0.000863736</td>\n",
              "    </tr>\n",
              "    <tr>\n",
              "      <th>67</th>\n",
              "      <td>inc_pov</td>\n",
              "      <td>0.00084049</td>\n",
              "    </tr>\n",
              "    <tr>\n",
              "      <th>62</th>\n",
              "      <td>agegrp_18 - 34 Years</td>\n",
              "      <td>0.000830078</td>\n",
              "    </tr>\n",
              "    <tr>\n",
              "      <th>52</th>\n",
              "      <td>opinion_seas_sick_from_vacc_Very Worried</td>\n",
              "      <td>0.00077797</td>\n",
              "    </tr>\n",
              "    <tr>\n",
              "      <th>6</th>\n",
              "      <td>behavioral_large_gatherings</td>\n",
              "      <td>0.000774326</td>\n",
              "    </tr>\n",
              "    <tr>\n",
              "      <th>0</th>\n",
              "      <td>h1n1_concern</td>\n",
              "      <td>0.000736612</td>\n",
              "    </tr>\n",
              "    <tr>\n",
              "      <th>140</th>\n",
              "      <td>state_LOUISIANA</td>\n",
              "      <td>0.000730553</td>\n",
              "    </tr>\n",
              "    <tr>\n",
              "      <th>70</th>\n",
              "      <td>employment_status_nan</td>\n",
              "      <td>0.000727838</td>\n",
              "    </tr>\n",
              "    <tr>\n",
              "      <th>95</th>\n",
              "      <td>employment_industry_Education Services Industries</td>\n",
              "      <td>0.000657956</td>\n",
              "    </tr>\n",
              "    <tr>\n",
              "      <th>159</th>\n",
              "      <td>state_COLORADO</td>\n",
              "      <td>0.000630615</td>\n",
              "    </tr>\n",
              "    <tr>\n",
              "      <th>79</th>\n",
              "      <td>household_children</td>\n",
              "      <td>0.000630214</td>\n",
              "    </tr>\n",
              "    <tr>\n",
              "      <th>168</th>\n",
              "      <td>state_OKLAHOMA</td>\n",
              "      <td>0.000569169</td>\n",
              "    </tr>\n",
              "    <tr>\n",
              "      <th>71</th>\n",
              "      <td>employment_status_Employed</td>\n",
              "      <td>0.00056587</td>\n",
              "    </tr>\n",
              "    <tr>\n",
              "      <th>30</th>\n",
              "      <td>opinion_h1n1_sick_from_vacc_Not Very Worried</td>\n",
              "      <td>0.000496809</td>\n",
              "    </tr>\n",
              "    <tr>\n",
              "      <th>149</th>\n",
              "      <td>state_KANSAS</td>\n",
              "      <td>0.000469486</td>\n",
              "    </tr>\n",
              "    <tr>\n",
              "      <th>143</th>\n",
              "      <td>state_OHIO</td>\n",
              "      <td>0.000467141</td>\n",
              "    </tr>\n",
              "    <tr>\n",
              "      <th>180</th>\n",
              "      <td>state_MONTANA</td>\n",
              "      <td>0.00045922</td>\n",
              "    </tr>\n",
              "    <tr>\n",
              "      <th>173</th>\n",
              "      <td>state_GEORGIA</td>\n",
              "      <td>0.000449369</td>\n",
              "    </tr>\n",
              "    <tr>\n",
              "      <th>125</th>\n",
              "      <td>employment_occupation_Arts, Design, Entertainm...</td>\n",
              "      <td>0.000448769</td>\n",
              "    </tr>\n",
              "    <tr>\n",
              "      <th>48</th>\n",
              "      <td>opinion_seas_risk_Dont Know</td>\n",
              "      <td>0.000443999</td>\n",
              "    </tr>\n",
              "    <tr>\n",
              "      <th>148</th>\n",
              "      <td>state_TEXAS</td>\n",
              "      <td>0.000427642</td>\n",
              "    </tr>\n",
              "    <tr>\n",
              "      <th>45</th>\n",
              "      <td>opinion_seas_risk_Somewhat High</td>\n",
              "      <td>0.000334585</td>\n",
              "    </tr>\n",
              "  </tbody>\n",
              "</table>\n",
              "</div>"
            ],
            "text/plain": [
              "                                               Feature   Importance\n",
              "9                                     doctor_recc_h1n1     0.508012\n",
              "13                                    health_insurance     0.151051\n",
              "19          opinion_h1n1_vacc_effective_Very Effective    0.0852707\n",
              "14                                       health_worker    0.0604952\n",
              "23                          opinion_h1n1_risk_Very Low    0.0427165\n",
              "24                     opinion_h1n1_risk_Somewhat High    0.0356041\n",
              "26                      opinion_h1n1_risk_Somewhat Low    0.0222518\n",
              "25                         opinion_h1n1_risk_Very High    0.0188958\n",
              "10                                doctor_recc_seasonal    0.0069395\n",
              "92                    employment_industry_Armed Forces   0.00518515\n",
              "1                                       h1n1_knowledge   0.00476178\n",
              "65                                          raceeth4_i   0.00413497\n",
              "58                                    agegrp_65+ Years   0.00370154\n",
              "47                          opinion_seas_risk_Very Low   0.00365986\n",
              "3                                 behavioral_avoidance   0.00346861\n",
              "134                                 state_RHODE ISLAND   0.00302029\n",
              "53      opinion_seas_sick_from_vacc_Not At All Worried   0.00284291\n",
              "131                                         hhs_region   0.00253087\n",
              "4                                 behavioral_face_mask   0.00189489\n",
              "146                                     state_ARKANSAS   0.00187333\n",
              "74                                       census_region   0.00186303\n",
              "123  employment_occupation_Healthcare Practitioners...   0.00177718\n",
              "78                                           n_adult_r   0.00174844\n",
              "38          opinion_seas_vacc_effective_Very Effective   0.00170585\n",
              "61                                agegrp_55 - 64 Years    0.0014863\n",
              "89   employment_industry_Health Care and Social Ass...   0.00143347\n",
              "80                                          n_people_r   0.00129827\n",
              "64                                      education_comp   0.00120549\n",
              "33        opinion_h1n1_sick_from_vacc_Somewhat Worried   0.00110413\n",
              "182                                state_NEW HAMPSHIRE   0.00103073\n",
              "7                              behavioral_outside_home   0.00100294\n",
              "158                                 state_SOUTH DAKOTA  0.000927906\n",
              "76                  census_msa_MSA, Not Principle City  0.000886948\n",
              "69                                          rent_own_r  0.000885843\n",
              "59                                agegrp_45 - 54 Years  0.000863736\n",
              "67                                             inc_pov   0.00084049\n",
              "62                                agegrp_18 - 34 Years  0.000830078\n",
              "52            opinion_seas_sick_from_vacc_Very Worried   0.00077797\n",
              "6                          behavioral_large_gatherings  0.000774326\n",
              "0                                         h1n1_concern  0.000736612\n",
              "140                                    state_LOUISIANA  0.000730553\n",
              "70                               employment_status_nan  0.000727838\n",
              "95   employment_industry_Education Services Industries  0.000657956\n",
              "159                                     state_COLORADO  0.000630615\n",
              "79                                  household_children  0.000630214\n",
              "168                                     state_OKLAHOMA  0.000569169\n",
              "71                          employment_status_Employed   0.00056587\n",
              "30        opinion_h1n1_sick_from_vacc_Not Very Worried  0.000496809\n",
              "149                                       state_KANSAS  0.000469486\n",
              "143                                         state_OHIO  0.000467141\n",
              "180                                      state_MONTANA   0.00045922\n",
              "173                                      state_GEORGIA  0.000449369\n",
              "125  employment_occupation_Arts, Design, Entertainm...  0.000448769\n",
              "48                         opinion_seas_risk_Dont Know  0.000443999\n",
              "148                                        state_TEXAS  0.000427642\n",
              "45                     opinion_seas_risk_Somewhat High  0.000334585"
            ]
          },
          "metadata": {
            "tags": []
          },
          "execution_count": 86
        }
      ]
    },
    {
      "cell_type": "code",
      "metadata": {
        "colab": {
          "base_uri": "https://localhost:8080/"
        },
        "id": "j6QGKK416XwB",
        "outputId": "493c9823-5b05-42e4-e1e0-99278d26d0bc"
      },
      "source": [
        "fi_data_0 = fi_data[fi_data.Importance ==0]\n",
        "fi_data_0.sort_values('Importance', ascending = False).head(60)\n",
        "fi_data_0.Feature.sort_values().unique()"
      ],
      "execution_count": 100,
      "outputs": [
        {
          "output_type": "execute_result",
          "data": {
            "text/plain": [
              "array(['agegrp_10 - 17 Years', 'agegrp_35 - 44 Years',\n",
              "       'agegrp_6 Months - 9 Years', 'behavioral_antiviral_meds',\n",
              "       'behavioral_touch_face', 'behavioral_wash_hands',\n",
              "       'census_msa_MSA, Principle City', 'census_msa_Non-MSA',\n",
              "       'child_under_6_months', 'chronic_med_condition',\n",
              "       'employment_industry_Accommodation and Food Services Industries',\n",
              "       'employment_industry_Administrative and Support and Waste Management',\n",
              "       'employment_industry_Agriculture, Forestry, Fishing, and Hunting Industries',\n",
              "       'employment_industry_Arts, Entertainment, and Recreation Industries Administration',\n",
              "       'employment_industry_Construction Industries',\n",
              "       'employment_industry_Finance and Insurance Industries',\n",
              "       'employment_industry_Information Industries',\n",
              "       'employment_industry_Management of Companies and Enterprises Industries',\n",
              "       'employment_industry_Manufacturing Industries',\n",
              "       'employment_industry_Mining Industries',\n",
              "       'employment_industry_Not ascertained',\n",
              "       'employment_industry_Other Services (except Public)',\n",
              "       'employment_industry_Professional, Scientific, and Technical Services Industries',\n",
              "       'employment_industry_Public Administration Industries',\n",
              "       'employment_industry_Real Estate and Rental and Leasing Industries',\n",
              "       'employment_industry_Refused, classified',\n",
              "       'employment_industry_Retail Trade Industries',\n",
              "       'employment_industry_Transportation and Warehousing Industries',\n",
              "       'employment_industry_Utilities Industries',\n",
              "       'employment_industry_Wholesale Trade Industries',\n",
              "       'employment_industry_nan',\n",
              "       'employment_occupation_Architecture and Engineering Occupations',\n",
              "       'employment_occupation_Building and Grounds Cleaning and Maintenance Occupations',\n",
              "       'employment_occupation_Business and Financial Operations Occupations',\n",
              "       'employment_occupation_Community and Social Services Occupations',\n",
              "       'employment_occupation_Computer and Mathematical Occupations',\n",
              "       'employment_occupation_Construction and Extraction Occupations',\n",
              "       'employment_occupation_Education, Training, and Library Occupations',\n",
              "       'employment_occupation_Farming, Fishing, and Forestry Occupations',\n",
              "       'employment_occupation_Food Preparation and Serving Related Occupations',\n",
              "       'employment_occupation_Healthcare Support Occupations',\n",
              "       'employment_occupation_Installation, Maintenance, and Repair Occupations',\n",
              "       'employment_occupation_Legal Occupations',\n",
              "       'employment_occupation_Life, Physical, and Social Science Occupations',\n",
              "       'employment_occupation_Management Occupations',\n",
              "       'employment_occupation_Military Specific Occupations',\n",
              "       'employment_occupation_Not ascertained',\n",
              "       'employment_occupation_Office and Administrative Support Occupations',\n",
              "       'employment_occupation_Personal Care and Service Occupations',\n",
              "       'employment_occupation_Production Occupations',\n",
              "       'employment_occupation_Protective Service Occupations',\n",
              "       'employment_occupation_Refused, classified',\n",
              "       'employment_occupation_Sales and Related Occupations',\n",
              "       'employment_occupation_Transportation and Material Moving Occupations',\n",
              "       'employment_occupation_nan',\n",
              "       'employment_status_Not in Labor Force',\n",
              "       'employment_status_Unemployed', 'marital',\n",
              "       'opinion_h1n1_risk_Dont Know', 'opinion_h1n1_risk_Refused',\n",
              "       'opinion_h1n1_risk_nan', 'opinion_h1n1_sick_from_vacc_Dont Know',\n",
              "       'opinion_h1n1_sick_from_vacc_Not At All Worried',\n",
              "       'opinion_h1n1_sick_from_vacc_Refused',\n",
              "       'opinion_h1n1_sick_from_vacc_Very Worried',\n",
              "       'opinion_h1n1_sick_from_vacc_nan',\n",
              "       'opinion_h1n1_vacc_effective_Dont Know',\n",
              "       'opinion_h1n1_vacc_effective_Not At All Effective',\n",
              "       'opinion_h1n1_vacc_effective_Not Very Effective',\n",
              "       'opinion_h1n1_vacc_effective_Refused',\n",
              "       'opinion_h1n1_vacc_effective_Somewhat Effective',\n",
              "       'opinion_h1n1_vacc_effective_nan', 'opinion_seas_risk_Refused',\n",
              "       'opinion_seas_risk_Somewhat Low', 'opinion_seas_risk_Very High',\n",
              "       'opinion_seas_risk_nan', 'opinion_seas_sick_from_vacc_Dont Know',\n",
              "       'opinion_seas_sick_from_vacc_Not Very Worried',\n",
              "       'opinion_seas_sick_from_vacc_Refused',\n",
              "       'opinion_seas_sick_from_vacc_Somewhat Worried',\n",
              "       'opinion_seas_sick_from_vacc_nan',\n",
              "       'opinion_seas_vacc_effective_Dont Know',\n",
              "       'opinion_seas_vacc_effective_Not At All Effective',\n",
              "       'opinion_seas_vacc_effective_Not Very Effective',\n",
              "       'opinion_seas_vacc_effective_Refused',\n",
              "       'opinion_seas_vacc_effective_Somewhat Effective',\n",
              "       'opinion_seas_vacc_effective_nan', 'sex_i', 'state_ALABAMA',\n",
              "       'state_ALASKA', 'state_ARIZONA', 'state_CALIFORNIA',\n",
              "       'state_CONNECTICUT', 'state_DELAWARE', 'state_DISTRICTOF COLUMBIA',\n",
              "       'state_FLORIDA', 'state_HAWAII', 'state_IDAHO', 'state_ILLINOIS',\n",
              "       'state_INDIANA', 'state_IOWA', 'state_KENTUCKY', 'state_MAINE',\n",
              "       'state_MARYLAND', 'state_MASSACHUSETTS', 'state_MICHIGAN',\n",
              "       'state_MINNESOTA', 'state_MISSISSIPPI', 'state_MISSOURI',\n",
              "       'state_NEBRASKA', 'state_NEVADA', 'state_NEW JERSEY',\n",
              "       'state_NEW MEXICO', 'state_NEW YORK', 'state_NORTH CAROLINA',\n",
              "       'state_NORTH DAKOTA', 'state_OREGON', 'state_PENNSYLVANIA',\n",
              "       'state_SOUTH CAROLINA', 'state_TENNESSEE', 'state_UTAH',\n",
              "       'state_VERMONT', 'state_VIRGINIA', 'state_WASHINGTON',\n",
              "       'state_WEST VIRGINIA', 'state_WISCONSIN', 'state_WYOMING'],\n",
              "      dtype=object)"
            ]
          },
          "metadata": {
            "tags": []
          },
          "execution_count": 100
        }
      ]
    }
  ]
}